{
 "cells": [
  {
   "cell_type": "markdown",
   "metadata": {},
   "source": [
    "## Programming Assignment_1\n",
    "-------------"
   ]
  },
  {
   "cell_type": "markdown",
   "metadata": {},
   "source": [
    "# 1. Write a Python program to print \"Hello Python\"?"
   ]
  },
  {
   "cell_type": "code",
   "execution_count": 1,
   "metadata": {},
   "outputs": [
    {
     "name": "stdout",
     "output_type": "stream",
     "text": [
      "Hello Python\n"
     ]
    }
   ],
   "source": [
    "print(\"Hello Python\")"
   ]
  },
  {
   "cell_type": "markdown",
   "metadata": {},
   "source": [
    "### 2. Write a Python program to do arithmetical operations addition and division.?\n"
   ]
  },
  {
   "cell_type": "code",
   "execution_count": 18,
   "metadata": {},
   "outputs": [
    {
     "name": "stdout",
     "output_type": "stream",
     "text": [
      "Enter the 1st value4\n",
      "Enter the 2nd value4\n",
      "The Sum is: 8\n",
      "The Difference is: 0\n"
     ]
    }
   ],
   "source": [
    "a=int(input(\"Enter the 1st value\"))\n",
    "b=int(input(\"Enter the 2nd value\"))\n",
    "print(\"The Sum is:\",a+b)\n",
    "print(\"The Difference is:\",a-b)"
   ]
  },
  {
   "cell_type": "markdown",
   "metadata": {},
   "source": [
    "### 3. Write a Python program to find the area of a triangle?\n"
   ]
  },
  {
   "cell_type": "code",
   "execution_count": 21,
   "metadata": {},
   "outputs": [
    {
     "name": "stdout",
     "output_type": "stream",
     "text": [
      "Enter the height of the triangle: 3\n",
      "Enter the base length of the triangle:3\n",
      "The area of the triangel is: 4.5\n"
     ]
    }
   ],
   "source": [
    "h=int(input(\"Enter the height of the triangle: \"))\n",
    "b=int(input(\"Enter the base length of the triangle:\"))\n",
    "print(\"The area of the triangel is:\",0.5*h*b)"
   ]
  },
  {
   "cell_type": "markdown",
   "metadata": {},
   "source": [
    "### 4. Write a Python program to swap two variables?\n"
   ]
  },
  {
   "cell_type": "code",
   "execution_count": 28,
   "metadata": {},
   "outputs": [
    {
     "name": "stdout",
     "output_type": "stream",
     "text": [
      "Enter the X value45\n",
      "Enter the Y value67\n",
      "The value of x after swapping is:  67\n",
      "The value of y after swapping is:  45\n"
     ]
    }
   ],
   "source": [
    "x=int(input(\"Enter the X value\"))\n",
    "y=int(input(\"Enter the Y value\"))\n",
    "temp=x\n",
    "x=y\n",
    "y=temp\n",
    "\n",
    "print(\"The value of x after swapping is: \",x)\n",
    "print(\"The value of y after swapping is: \",y)"
   ]
  },
  {
   "cell_type": "markdown",
   "metadata": {},
   "source": [
    "### 5. Write a Python program to generate a random number?\n"
   ]
  },
  {
   "cell_type": "code",
   "execution_count": 40,
   "metadata": {},
   "outputs": [
    {
     "name": "stdout",
     "output_type": "stream",
     "text": [
      "Enter a randon number: 100\n",
      "The random number is: 93\n"
     ]
    }
   ],
   "source": [
    "import numpy as np\n",
    "number=int(input(\"Enter a randon number: \"))\n",
    "print(\"The random number is:\",np.random.randint(0,number))"
   ]
  }
 ],
 "metadata": {
  "kernelspec": {
   "display_name": "Python 3",
   "language": "python",
   "name": "python3"
  },
  "language_info": {
   "codemirror_mode": {
    "name": "ipython",
    "version": 3
   },
   "file_extension": ".py",
   "mimetype": "text/x-python",
   "name": "python",
   "nbconvert_exporter": "python",
   "pygments_lexer": "ipython3",
   "version": "3.8.5"
  }
 },
 "nbformat": 4,
 "nbformat_minor": 5
}
